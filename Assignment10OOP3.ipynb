{
 "cells": [
  {
   "cell_type": "code",
   "execution_count": 16,
   "id": "4e7b4c2b-8879-4d45-adb9-25c1db58fbff",
   "metadata": {},
   "outputs": [
    {
     "name": "stdout",
     "output_type": "stream",
     "text": [
      "Nano 80 25\n"
     ]
    }
   ],
   "source": [
    "# Q1, Create a vehicle class with an init method having instance variables as name_of_vehicle, max_speed\n",
    "# and average_of_vehicle.\n",
    "#Ans:-\n",
    "class vehicle:\n",
    "    name_of_vehicle=\"\"\n",
    "    max_speed=0\n",
    "    average_of_vehicle=0\n",
    "    def __init__(self,name_of_vehicle,max_speed,average_of_vehicle):\n",
    "        self.name_of_vehicle=name_of_vehicle\n",
    "        self.max_speed=max_speed\n",
    "        self.average_of_vehicle=average_of_vehicle\n",
    "        print(name_of_vehicle,max_speed,average_of_vehicle)\n",
    "veh=vehicle('Nano',80,25)"
   ]
  },
  {
   "cell_type": "code",
   "execution_count": 28,
   "id": "0bd938d4-f719-4335-b1d0-9fad9ca2f57e",
   "metadata": {},
   "outputs": [
    {
     "name": "stdout",
     "output_type": "stream",
     "text": [
      "Nano 80 25\n",
      "Nano has 4 capacity\n"
     ]
    }
   ],
   "source": [
    "# Q2. Create a child class car from the vehicle class created in Que 1, which will inherit the vehicle class.\n",
    "# Create a method named seating_capacity which takes capacity as an argument and returns the name of\n",
    "# the vehicle and its seating capacity.\n",
    "#Ans:-\n",
    "class car(vehicle):\n",
    "    def seating_capacity(self,capacity):\n",
    "        self.cap=capacity\n",
    "        print(f\"{self.name_of_vehicle} has {capacity} seating capacity\")\n",
    "car=car(\"Nano\",80,25)\n",
    "car.seating_capacity(4)"
   ]
  },
  {
   "cell_type": "code",
   "execution_count": 14,
   "id": "34b44d9e-3b95-4186-9332-25bbf5f462d7",
   "metadata": {},
   "outputs": [
    {
     "name": "stdout",
     "output_type": "stream",
     "text": [
      "Jai is 19 years old\n"
     ]
    }
   ],
   "source": [
    "# Q3. What is multiple inheritance? Write a python code to demonstrate multiple inheritance.\n",
    "#Ans:-Multiple inheritance means inheriting from two or more parent class\n",
    "class name:\n",
    "    def __init__(self,name):\n",
    "        self.name=name\n",
    "class age:\n",
    "    def __init__(self,age):\n",
    "        self.age=age\n",
    "class output(age,name):\n",
    "    def display(self):\n",
    "        print(f'{self.name} is {self.age} years old')\n",
    "out=output(19)\n",
    "out.name='Jai'\n",
    "out.display()"
   ]
  },
  {
   "cell_type": "code",
   "execution_count": 39,
   "id": "96c9283c-f324-4ec3-ad47-056a1856c27c",
   "metadata": {},
   "outputs": [
    {
     "name": "stdout",
     "output_type": "stream",
     "text": [
      "Before setting age\n",
      "0\n",
      "After setting age\n"
     ]
    },
    {
     "data": {
      "text/plain": [
       "19"
      ]
     },
     "execution_count": 39,
     "metadata": {},
     "output_type": "execute_result"
    }
   ],
   "source": [
    "# Q4. What are getter and setter in python? Create a class and create a getter and a setter method in this\n",
    "# class.\n",
    "# Ans:-When we have to access private member of class we use getter and setter.Example:-\n",
    "class student:\n",
    "    def __init__(self):\n",
    "        self.__age=0\n",
    "    @property\n",
    "    def age_access(self):\n",
    "        return self.__age\n",
    "    @age_access.setter\n",
    "    def age_access(self,age):\n",
    "        self.__age=age\n",
    "st1=student()\n",
    "print(\"Before setting age\")\n",
    "print(st1.age_access)\n",
    "st1.age_access=19\n",
    "print(\"After setting age\")\n",
    "st1.age_access"
   ]
  },
  {
   "cell_type": "code",
   "execution_count": 49,
   "id": "c6afc89a-9de0-4b96-995b-d745b4cc0066",
   "metadata": {},
   "outputs": [
    {
     "name": "stdout",
     "output_type": "stream",
     "text": [
      "Square has four sides\n",
      "Pentagon has five sides\n",
      "Triangle has three sides\n"
     ]
    }
   ],
   "source": [
    "# Q5.What is method overriding in python? Write a python code to demonstrate method overriding.\n",
    "#Ans:-\n",
    "import abc\n",
    "class shape:\n",
    "    @abc.abstractclassmethod\n",
    "    def side(self):\n",
    "        pass\n",
    "class square(shape):\n",
    "    def side(self):\n",
    "        print(\"Square has four sides\")\n",
    "class pentagon(shape):\n",
    "    def side(self):\n",
    "        print(\"Pentagon has five sides\")\n",
    "class triangle(shape):\n",
    "    def side(self):\n",
    "        print(\"Triangle has three sides\")\n",
    "def poly(lis):\n",
    "    for i in lis:\n",
    "        i.side()\n",
    "sq=square()\n",
    "pe=pentagon()\n",
    "tr=triangle()\n",
    "ref=[sq,pe,tr]\n",
    "poly(ref)"
   ]
  },
  {
   "cell_type": "code",
   "execution_count": null,
   "id": "29308185-e396-4a0b-abeb-e1401b3ae0b9",
   "metadata": {},
   "outputs": [],
   "source": []
  },
  {
   "cell_type": "code",
   "execution_count": null,
   "id": "90c482ca-59e6-4668-98a2-2f4ac63601b1",
   "metadata": {},
   "outputs": [],
   "source": []
  }
 ],
 "metadata": {
  "kernelspec": {
   "display_name": "Python 3 (ipykernel)",
   "language": "python",
   "name": "python3"
  },
  "language_info": {
   "codemirror_mode": {
    "name": "ipython",
    "version": 3
   },
   "file_extension": ".py",
   "mimetype": "text/x-python",
   "name": "python",
   "nbconvert_exporter": "python",
   "pygments_lexer": "ipython3",
   "version": "3.11.1"
  }
 },
 "nbformat": 4,
 "nbformat_minor": 5
}
