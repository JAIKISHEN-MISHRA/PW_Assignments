{
 "cells": [
  {
   "cell_type": "code",
   "execution_count": 22,
   "id": "8cbfaa05-3013-45ad-bf3d-b1da4d7791a5",
   "metadata": {},
   "outputs": [
    {
     "name": "stdin",
     "output_type": "stream",
     "text": [
      "Please enter your password 10 char long JAiki10!@#\n"
     ]
    },
    {
     "name": "stdout",
     "output_type": "stream",
     "text": [
      "2\n",
      "3\n",
      "2\n",
      "3\n",
      "10\n",
      "Valid Password\n"
     ]
    }
   ],
   "source": [
    "# Q1. You are writing code for a company. The requirement of the company is that you create a python\n",
    "# function that will check whether the password entered by the user is correct or not. The function should\n",
    "# take the password as input and return the string “Valid Password” if the entered password follows the\n",
    "# below-given password guidelines else it should return “Invalid Password”.\n",
    "#Ans:-\n",
    "def password():\n",
    "    up_case=0\n",
    "    low_case=0\n",
    "    num=0\n",
    "    special=0\n",
    "    length=0\n",
    "    key=input(\"Please enter your password 10 char long\")\n",
    "    for i in key:\n",
    "        length+=1\n",
    "        if (i.islower()):\n",
    "            low_case+=1\n",
    "        elif (i.isupper()):\n",
    "            up_case+=1\n",
    "        elif (i.isdigit()):\n",
    "            num+=1\n",
    "        else:\n",
    "            special+=1\n",
    "    print(up_case)\n",
    "    print(low_case)\n",
    "    print(num)\n",
    "    print(special)\n",
    "    print(length)\n",
    "    if up_case>=2 and low_case>=2 and num>=1 and special>=3 and length==10:\n",
    "        print(\"Valid Password\")\n",
    "    else:\n",
    "        print(\"Invalid password\")\n",
    "password()\n"
   ]
  },
  {
   "cell_type": "code",
   "execution_count": 72,
   "id": "49841c61-1c36-4bc8-aabb-09be66e45482",
   "metadata": {},
   "outputs": [
    {
     "name": "stdin",
     "output_type": "stream",
     "text": [
      "Please enter a line THE\n"
     ]
    },
    {
     "name": "stdout",
     "output_type": "stream",
     "text": [
      "['YES STARTS ']\n",
      "['YES NUMERIC']\n",
      "[('orange', 80), ('mango', 99), ('grapes', 1000)]\n",
      "1\n",
      "4\n",
      "9\n",
      "16\n",
      "25\n",
      "36\n",
      "49\n",
      "64\n",
      "81\n",
      "100\n",
      "1.0\n",
      "1.4142135623730951\n",
      "1.7320508075688772\n",
      "2.0\n",
      "2.23606797749979\n",
      "2.449489742783178\n",
      "2.6457513110645907\n",
      "2.8284271247461903\n",
      "3.0\n",
      "3.1622776601683795\n"
     ]
    },
    {
     "name": "stdin",
     "output_type": "stream",
     "text": [
      "Please enter a number 4\n"
     ]
    },
    {
     "name": "stdout",
     "output_type": "stream",
     "text": [
      "['Even']\n",
      "1\n",
      "3\n",
      "5\n",
      "7\n",
      "9\n",
      "Positive Num\n",
      "1\n",
      "2\n",
      "3\n",
      "4\n",
      "5\n",
      "6\n",
      "Negative Num\n",
      "-1\n",
      "-2\n",
      "-3\n",
      "-4\n",
      "-5\n"
     ]
    }
   ],
   "source": [
    "# Q2. Solve the below-given questions using at least one of the following:\n",
    "#Ans:-\n",
    "#Check if the string starts with a particular letter:-\n",
    "sen=input(\"Please enter a line\")\n",
    "ans=[\"YES STARTS \" if(sen.startswith('T')) else \"NOT STARTS\"]\n",
    "print(ans)\n",
    "#Check if the string is numeric\n",
    "sen1=\"101\"\n",
    "ans1=[\"YES NUMERIC\" if(sen1.isnumeric) else \"NOT NUMERIC\"]\n",
    "print(ans1)\n",
    "#Sort a list of tuples having fruit names and their quantity. [(\"mango\",99),(\"orange\",80), (\"grapes\", 1000)]\n",
    "sen2=[(\"mango\",99),(\"orange\",80), (\"grapes\", 1000)]\n",
    "ans2=(sorted(sen2, key = lambda x: x[1])) \n",
    "print(ans2)\n",
    "# Find the squares of numbers from 1 to 10\n",
    "sen3=[1,2,3,4,5,6,7,8,9,10]\n",
    "ans3=map(lambda x:x*x,sen3)\n",
    "for i in ans3:\n",
    "    print(i)\n",
    "#Find the cube root of numbers from 1 to 10\n",
    "import math\n",
    "sen4=[1,2,3,4,5,6,7,8,9,10]\n",
    "ans4=map(lambda x:math.sqrt(x),sen4)\n",
    "for i in ans4:\n",
    "    print(i)\n",
    "#Check if a given number is even\n",
    "sen5=int(input(\"Please enter a number\"))\n",
    "ans5=[\"Even\" if sen5%2==0 else \"ODD\"]\n",
    "print(ans5)\n",
    "#Filter odd numbers from the given list.\n",
    "sen6=[1,2,3,4,5,6,7,8,9,10]\n",
    "ans6=filter(lambda x:x%2==1,sen6)\n",
    "for i in ans6:\n",
    "    print(i)\n",
    "#Sort a list of integers into positive and negative integers lists.\n",
    "sen7=[1,2,3,4,5,6,-1,-2,-3,-4,-5,0]\n",
    "pos=filter(lambda x:x>0,sen7)\n",
    "neg=filter(lambda x:x<0,sen7)\n",
    "print(\"Positive Num\")\n",
    "for i in pos:\n",
    "    print(i)\n",
    "print(\"Negative Num\")\n",
    "for i in neg:\n",
    "    print(i)"
   ]
  },
  {
   "cell_type": "code",
   "execution_count": null,
   "id": "9b15039d-7ae1-4e06-9ccc-0734879cca69",
   "metadata": {},
   "outputs": [],
   "source": []
  }
 ],
 "metadata": {
  "kernelspec": {
   "display_name": "Python 3 (ipykernel)",
   "language": "python",
   "name": "python3"
  },
  "language_info": {
   "codemirror_mode": {
    "name": "ipython",
    "version": 3
   },
   "file_extension": ".py",
   "mimetype": "text/x-python",
   "name": "python",
   "nbconvert_exporter": "python",
   "pygments_lexer": "ipython3",
   "version": "3.11.1"
  }
 },
 "nbformat": 4,
 "nbformat_minor": 5
}
