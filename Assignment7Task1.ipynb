{
 "cells": [
  {
   "cell_type": "code",
   "execution_count": 2,
   "id": "ddd1b442-ccbe-41d2-9b90-15c136478b46",
   "metadata": {},
   "outputs": [
    {
     "name": "stdout",
     "output_type": "stream",
     "text": [
      "[1, 2, 3, 4, 1, 4, 34, 55, 67, 78, 89, 45, 22, 61, 34, 34, 56, 78, 89, 34, 1, 2, 3, 44, 55, 66, 56]\n",
      "1018\n"
     ]
    }
   ],
   "source": [
    "#Q1]Create a function which will take a list as an argument and return the product of all the numbers after creating a flat list.\n",
    "#ANS:-\n",
    "def ans(lis):\n",
    "    flat_list=[]\n",
    "    inner_list=[]\n",
    "    inner_tuple=[]\n",
    "    inner_set=[]\n",
    "    inner_dic=[]\n",
    "    key=[]\n",
    "    value=[]\n",
    "    inner_t=[]\n",
    "    inner_l=[]\n",
    "    inner_s=[]\n",
    "    inner_d=[]\n",
    "    for i in lis:\n",
    "        if type(i)==list:\n",
    "            inner_list.append(i)\n",
    "        elif type(i)==set:\n",
    "            inner_set.append(i)\n",
    "        elif type(i)==tuple:\n",
    "            inner_tuple.append(i)\n",
    "        elif type(i)==dict:\n",
    "            inner_dic.append(i)\n",
    "        elif type(i)==int:\n",
    "            flat_list.append(i)\n",
    "        else:\n",
    "            pass\n",
    "    for i in range(0,len(inner_tuple)):\n",
    "        for j in range(0,len(inner_tuple[i])):\n",
    "            if type(inner_tuple[i][j])==int:\n",
    "                inner_t.append(inner_tuple[i][j])\n",
    "    for i in range(0,len(inner_list)):\n",
    "        for j in range(0,len(inner_list[i])):\n",
    "            if type(inner_list[i][j])==int:\n",
    "                inner_l.append(inner_list[i][j])\n",
    "    for i in range(0,len(inner_set)):\n",
    "        for j in inner_set[i]:\n",
    "            if type(j)==int:\n",
    "                inner_s.append(j)\n",
    "    key=inner_dic[0].keys()\n",
    "    value=inner_dic[0].values()\n",
    "    for i in key:\n",
    "        if type(i)==int:\n",
    "            flat_list.append(i)\n",
    "    for i in value:\n",
    "        if type(i)==int:\n",
    "            flat_list.append(i)\n",
    "        elif type(i)==list:\n",
    "            for j in i:\n",
    "                flat_list.append(j)\n",
    "        elif type(i)==tuple:\n",
    "            for j in i:\n",
    "                flat_list.append(j)\n",
    "    final=flat_list+inner_t+inner_s+inner_l\n",
    "    print(final)\n",
    "    import functools\n",
    "    answer=functools.reduce(lambda a,b:a+b,final)\n",
    "    print(answer)\n",
    "list1 = [1,2,3,4, [44,55,66, True], False, (34,56,78,89,34), {1,2,3,3,2,1}, {1:34, \"key2\": [55, 67, 78, 89], 4: (45,\n",
    "22, 61, 34)}, [56, 'data science'], 'Machine Learning']\n",
    "ans(list1)"
   ]
  },
  {
   "cell_type": "code",
   "execution_count": 41,
   "id": "14af25f0-5323-4c53-8a2b-6ea70feeddf4",
   "metadata": {},
   "outputs": [
    {
     "name": "stdout",
     "output_type": "stream",
     "text": [
      "r$dzmg$gl$yvxlnv$z$wzgz$hxrvmgrhg.\n"
     ]
    }
   ],
   "source": [
    "# Q2. Write a python program for encrypting a message sent to you by your friend. The logic of encryption\n",
    "# should be such that, for a the output should be z. For b, the output should be y. For c, the output should\n",
    "# be x respectively. Also, the whitespace should be replaced with a dollar sign. Keep the punctuation\n",
    "# marks unchanged.\n",
    "#ANS:-\n",
    "sen=\"I want to become a Data Scientist.\"\n",
    "sen=sen.lower()\n",
    "ans=\"\"\n",
    "j=0\n",
    "for i in sen:\n",
    "    j=j+1\n",
    "    if ord(i)>=97 and ord(i)<=122:\n",
    "        start_ascii=ord(i)-97\n",
    "        end_ascii=122-start_ascii\n",
    "        ans=ans+(chr(end_ascii))\n",
    "    elif ord(i)==32:\n",
    "        ans=ans+'$'\n",
    "    else:\n",
    "        ans=ans+i\n",
    "print(ans)"
   ]
  },
  {
   "cell_type": "code",
   "execution_count": null,
   "id": "af7c072a-7e6d-4fbb-bc69-cf104c7fe5f4",
   "metadata": {},
   "outputs": [],
   "source": []
  }
 ],
 "metadata": {
  "kernelspec": {
   "display_name": "Python 3 (ipykernel)",
   "language": "python",
   "name": "python3"
  },
  "language_info": {
   "codemirror_mode": {
    "name": "ipython",
    "version": 3
   },
   "file_extension": ".py",
   "mimetype": "text/x-python",
   "name": "python",
   "nbconvert_exporter": "python",
   "pygments_lexer": "ipython3",
   "version": "3.11.1"
  }
 },
 "nbformat": 4,
 "nbformat_minor": 5
}
