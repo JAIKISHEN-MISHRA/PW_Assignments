{
 "cells": [
  {
   "cell_type": "code",
   "execution_count": 1,
   "id": "c4df574b-688f-4c5a-b0f5-55976f0bdbb4",
   "metadata": {},
   "outputs": [
    {
     "name": "stdin",
     "output_type": "stream",
     "text": [
      "Please enter your percentage 80\n"
     ]
    },
    {
     "name": "stdout",
     "output_type": "stream",
     "text": [
      "C\n"
     ]
    }
   ],
   "source": [
    "#Q1]WAP to accept percentage from user and display grade\n",
    "per=float(input(\"Please enter your percentage\"))\n",
    "if per>90:\n",
    "    print(\"A\")\n",
    "elif per<=90 and per>80:\n",
    "    print(\"B\")\n",
    "elif per<=80 and per>=60:\n",
    "    print(\"C\")\n",
    "else:\n",
    "    print(\"D\")"
   ]
  },
  {
   "cell_type": "code",
   "execution_count": 2,
   "id": "e8fd0e52-fffc-4e79-8b91-2e2795dc0e4c",
   "metadata": {},
   "outputs": [
    {
     "name": "stdin",
     "output_type": "stream",
     "text": [
      "Please enter cost of bike 78000\n"
     ]
    },
    {
     "name": "stdout",
     "output_type": "stream",
     "text": [
      "10%\n"
     ]
    }
   ],
   "source": [
    "#Q2]WAP to accept cost of the bike and display road tax to be paid\n",
    "cost=int(input(\"Please enter cost of bike\"))\n",
    "if cost>100000:\n",
    "    print(\"15%\")\n",
    "elif cost>50000 and cost<=100000:\n",
    "    print(\"10%\")\n",
    "else:\n",
    "    print(\"5%\")"
   ]
  },
  {
   "cell_type": "code",
   "execution_count": 7,
   "id": "6141a721-bd03-4039-a817-43519c7a5d26",
   "metadata": {},
   "outputs": [
    {
     "name": "stdin",
     "output_type": "stream",
     "text": [
      "Please enter city name AGRA\n"
     ]
    },
    {
     "name": "stdout",
     "output_type": "stream",
     "text": [
      "Jal Mahal\n"
     ]
    }
   ],
   "source": [
    "#Q3]WAP to accept city and display monument\n",
    "city=str(input(\"Please enter city name\"))\n",
    "city=city.lower()\n",
    "if city==\"delhi\":\n",
    "    print(\"Red Fort\")\n",
    "elif city==\"agra\":\n",
    "    print(\"Taj Mahal\")\n",
    "else:\n",
    "    print(\"Jal Mahal\")"
   ]
  },
  {
   "cell_type": "code",
   "execution_count": 4,
   "id": "1c4f1db9-1de3-4b02-9455-025cc8f2c6eb",
   "metadata": {},
   "outputs": [
    {
     "name": "stdin",
     "output_type": "stream",
     "text": [
      "Please enter a number 30\n"
     ]
    },
    {
     "name": "stdout",
     "output_type": "stream",
     "text": [
      "1\n"
     ]
    }
   ],
   "source": [
    "#Q4]WAP to check how may time a number can be divided by 3 before it is less than or equal to 10\n",
    "num=int(input(\"Please enter a number\"))\n",
    "flag=0\n",
    "while num>10:\n",
    "    num=num/3\n",
    "    flag=flag+1\n",
    "print(flag)"
   ]
  },
  {
   "cell_type": "code",
   "execution_count": 5,
   "id": "f21a590f-cebc-48c6-a68c-c2832e8aece4",
   "metadata": {},
   "outputs": [
    {
     "name": "stdout",
     "output_type": "stream",
     "text": [
      "1\n",
      "2\n",
      "3\n",
      "4\n",
      "5\n"
     ]
    }
   ],
   "source": [
    "#Q5]Why and when to use while loop give detailed description with example?\n",
    "#Ans:-A \"While\" Loop is used to repeat a specific block of code an unknown number of times, until a condition is met.Example:-\n",
    "i = 1\n",
    "while i < 6:\n",
    "  print(i)\n",
    "  i += 1\n"
   ]
  },
  {
   "cell_type": "code",
   "execution_count": 2,
   "id": "fd57fc73-fcac-4359-809b-29bbf8cf30d6",
   "metadata": {},
   "outputs": [
    {
     "name": "stdin",
     "output_type": "stream",
     "text": [
      "Enter number of rows :  3\n"
     ]
    },
    {
     "name": "stdout",
     "output_type": "stream",
     "text": [
      "* \n",
      "* * \n",
      "* * * \n",
      "2 pattern\n",
      "* * * \n",
      "* * \n",
      "* \n",
      "3 pattern\n",
      "3 2 1 \n",
      "3 2 \n",
      "3 \n"
     ]
    }
   ],
   "source": [
    "#Q6]Use nested while loop to print 3 pattern?\n",
    "n = int(input('Enter number of rows : '))\n",
    " \n",
    "i = 1\n",
    "while i <= n :\n",
    "    j = 1\n",
    "    while j <= i:\n",
    "        print(\"*\", end = \" \")\n",
    "        j += 1\n",
    "    print()\n",
    "    i += 1\n",
    "print(\"2 pattern\")\n",
    "i = 1\n",
    "while i <= n :\n",
    "    j = n\n",
    "    while j >= i:\n",
    "        print(\"*\", end = \" \")\n",
    "        j -= 1\n",
    "    print()\n",
    "    i += 1\n",
    "print(\"3 pattern\")\n",
    "i = 1\n",
    "while i <= n :\n",
    "    j = n\n",
    "    while j >= i:\n",
    "        print(j, end = \" \")\n",
    "        j -= 1\n",
    "    print()\n",
    "    i += 1"
   ]
  },
  {
   "cell_type": "code",
   "execution_count": 7,
   "id": "68c377b2-7097-46a8-bdfa-93325eb0a7b2",
   "metadata": {},
   "outputs": [],
   "source": [
    "#7]Reverse a while loop to print number from 10 to 1\n",
    "num=10\n",
    "while num==1:\n",
    "    print(i)\n",
    "    num=num-1"
   ]
  },
  {
   "cell_type": "code",
   "execution_count": null,
   "id": "6cbe4137-9d52-48db-a5c1-5cf1a8587929",
   "metadata": {},
   "outputs": [],
   "source": []
  }
 ],
 "metadata": {
  "kernelspec": {
   "display_name": "Python 3 (ipykernel)",
   "language": "python",
   "name": "python3"
  },
  "language_info": {
   "codemirror_mode": {
    "name": "ipython",
    "version": 3
   },
   "file_extension": ".py",
   "mimetype": "text/x-python",
   "name": "python",
   "nbconvert_exporter": "python",
   "pygments_lexer": "ipython3",
   "version": "3.11.1"
  }
 },
 "nbformat": 4,
 "nbformat_minor": 5
}
