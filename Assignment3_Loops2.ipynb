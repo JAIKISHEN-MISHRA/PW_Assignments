{
 "cells": [
  {
   "cell_type": "code",
   "execution_count": 2,
   "id": "601bcc10-0dd4-42d8-9095-514fbc5f30c1",
   "metadata": {},
   "outputs": [
    {
     "name": "stdout",
     "output_type": "stream",
     "text": [
      "0\n",
      "1\n",
      "2\n",
      "3\n",
      "4\n",
      "5\n",
      "6\n",
      "7\n",
      "8\n",
      "9\n",
      "10\n",
      "0\n",
      "1\n",
      "2\n",
      "3\n",
      "4\n",
      "5\n",
      "6\n",
      "7\n",
      "8\n",
      "9\n",
      "10\n"
     ]
    }
   ],
   "source": [
    "#Q1]Explain with example with when to use for loop and while loop with example?\n",
    "#Ans:-A for loop is an iteration method that is best used when you know the number of iterations ahead of time.Example:-\n",
    "for i in range(0,11):\n",
    "    print(i)\n",
    "#Ans:- A while loop is an iteration method that is best used when you don't know the number of iterations ahead of time.Example:-\n",
    "print(\"While loop\")\n",
    "i=0\n",
    "while i<=10:\n",
    "    print(i)\n",
    "    i+=1"
   ]
  },
  {
   "cell_type": "code",
   "execution_count": 10,
   "id": "1b968bfd-24d9-4388-9879-f91977d959fe",
   "metadata": {},
   "outputs": [
    {
     "name": "stdout",
     "output_type": "stream",
     "text": [
      "55\n",
      "3628800\n",
      "While loop\n",
      "55\n",
      "3628800\n"
     ]
    }
   ],
   "source": [
    "#Q2]Write a python program to print the sum and product of the first 10 natural numbers using for and while loop.\n",
    "sum=0\n",
    "mul=1\n",
    "for i in range(1,11):\n",
    "    sum+=i\n",
    "    mul*=i\n",
    "print(sum)\n",
    "print(mul)\n",
    "print(\"While loop\")\n",
    "i=1\n",
    "sum=0\n",
    "mul=1\n",
    "while i<=10:\n",
    "    sum+=i\n",
    "    mul*=i\n",
    "    i+=1\n",
    "print(sum)\n",
    "print(mul)"
   ]
  },
  {
   "cell_type": "code",
   "execution_count": 16,
   "id": "b2ee0e6d-66c8-4551-831b-542958a701c3",
   "metadata": {},
   "outputs": [
    {
     "name": "stdin",
     "output_type": "stream",
     "text": [
      "Please enter units consumed fo this month: 310\n"
     ]
    },
    {
     "name": "stdout",
     "output_type": "stream",
     "text": [
      "Your total bill is:\n",
      "2250.0\n"
     ]
    }
   ],
   "source": [
    "#Q3. Create a python program to compute the electricity bill for a household.\n",
    "unit=int(input(\"Please enter units consumed fo this month:\"))\n",
    "if(unit<=100):\n",
    "    bill=unit*4.5\n",
    "elif(unit>100 and unit<=200):\n",
    "    rem=unit-100\n",
    "elif(unit>200 and unit<=300):\n",
    "    rem=unit-200\n",
    "    bill=100*4.5+100*6+rem*10\n",
    "else:\n",
    "    rem=unit-300\n",
    "    bill=100*4.5+100*6+100*10+rem*20\n",
    "print(\"Your total bill is:\")\n",
    "print(bill)"
   ]
  },
  {
   "cell_type": "code",
   "execution_count": 9,
   "id": "56466764-223f-4275-947e-15515d35ec41",
   "metadata": {},
   "outputs": [
    {
     "name": "stdout",
     "output_type": "stream",
     "text": [
      "[1, 8, 27, 64, 125, 216, 343, 512, 729, 1000, 1331, 1728, 2197, 2744, 3375, 4096, 4913, 5832, 6859, 8000, 9261, 10648, 12167, 13824, 15625, 17576, 19683, 21952, 24389, 27000, 29791, 32768, 35937, 39304, 42875, 46656, 50653, 54872, 59319, 64000, 68921, 74088, 79507, 85184, 91125, 97336, 103823, 110592, 117649, 125000, 132651, 140608, 148877, 157464, 166375, 175616, 185193, 195112, 205379, 216000, 226981, 238328, 250047, 262144, 274625, 287496, 300763, 314432, 328509, 343000, 357911, 373248, 389017, 405224, 421875, 438976, 456533, 474552, 493039, 512000, 531441, 551368, 571787, 592704, 614125, 636056, 658503, 681472, 704969, 729000, 753571, 778688, 804357, 830584, 857375, 884736, 912673, 941192, 970299, 1000000]\n",
      "[8, 64, 125, 216, 512, 1000, 1728, 2744, 3375, 4096, 5832, 8000, 10648, 13824, 15625, 17576, 21952, 27000, 32768, 39304, 42875, 46656, 54872, 64000, 74088, 85184, 91125, 97336, 110592, 125000, 140608, 157464, 166375, 175616, 195112, 216000, 238328, 262144, 274625, 287496, 314432, 343000, 373248, 405224, 421875, 438976, 474552, 512000, 551368, 592704, 614125, 636056, 681472, 729000, 778688, 830584, 857375, 884736, 941192, 1000000]\n"
     ]
    }
   ],
   "source": [
    "#Q4]Create a list of numbers from 1 to 100. Use for loop and while loop to calculate the cube of each number and if the cube of that number is divisible by 4 or 5 then append that number in a list and print that list.\n",
    "num=[]\n",
    "for i in range(1,101):\n",
    "    num.append(i)\n",
    "cube=[]\n",
    "for i in num:\n",
    "    cubenum=i**3\n",
    "    cube.append(cubenum)\n",
    "print(cube)\n",
    "i=0\n",
    "final=[]\n",
    "while i<100:\n",
    "    if(cube[i]%5==0 or cube[i]%4==0):\n",
    "         final.append(cube[i])\n",
    "    i+=1\n",
    "print(final)"
   ]
  },
  {
   "cell_type": "code",
   "execution_count": 10,
   "id": "4668835d-20ba-4a30-b694-52055920c0db",
   "metadata": {},
   "outputs": [
    {
     "ename": "IndexError",
     "evalue": "list index out of range",
     "output_type": "error",
     "traceback": [
      "\u001b[1;31m---------------------------------------------------------------------------\u001b[0m",
      "\u001b[1;31mIndexError\u001b[0m                                Traceback (most recent call last)",
      "Cell \u001b[1;32mIn[10], line 1\u001b[0m\n\u001b[1;32m----> 1\u001b[0m \u001b[43mcube\u001b[49m\u001b[43m[\u001b[49m\u001b[38;5;241;43m100\u001b[39;49m\u001b[43m]\u001b[49m\n",
      "\u001b[1;31mIndexError\u001b[0m: list index out of range"
     ]
    }
   ],
   "source": []
  },
  {
   "cell_type": "code",
   "execution_count": 13,
   "id": "a8518e26-a026-4a4c-99b1-f22b82ca4bb7",
   "metadata": {},
   "outputs": [
    {
     "name": "stdout",
     "output_type": "stream",
     "text": [
      "i\n",
      " \n",
      "w\n",
      "a\n",
      "n\n",
      "t\n",
      " \n",
      "t\n",
      "o\n",
      " \n",
      "b\n",
      "e\n",
      "c\n",
      "o\n",
      "m\n",
      "e\n",
      " \n",
      "a\n",
      " \n",
      "d\n",
      "a\n",
      "t\n",
      "a\n",
      " \n",
      "s\n",
      "c\n",
      "i\n",
      "e\n",
      "n\n",
      "t\n",
      "i\n",
      "s\n",
      "t\n"
     ]
    }
   ],
   "source": [
    "# Write a program to filter count vowels in the below-given string.\n",
    "# string = \"I want to become a data scientist\"\n",
    "sen=\"I want to become a data scientist\"\n",
    "sen=sen.lower()\n",
    "vowel=0\n",
    "for i in sen:\n",
    "    if(i=='a' or i=='e' or i=='i' or i=='o' or i=='4'):\n",
    "        "
   ]
  },
  {
   "cell_type": "code",
   "execution_count": null,
   "id": "2aae3fde-098d-4e92-b4ae-a33a5a5cd672",
   "metadata": {},
   "outputs": [],
   "source": []
  }
 ],
 "metadata": {
  "kernelspec": {
   "display_name": "Python 3 (ipykernel)",
   "language": "python",
   "name": "python3"
  },
  "language_info": {
   "codemirror_mode": {
    "name": "ipython",
    "version": 3
   },
   "file_extension": ".py",
   "mimetype": "text/x-python",
   "name": "python",
   "nbconvert_exporter": "python",
   "pygments_lexer": "ipython3",
   "version": "3.11.1"
  }
 },
 "nbformat": 4,
 "nbformat_minor": 5
}
